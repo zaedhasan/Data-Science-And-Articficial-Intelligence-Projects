{
  "cells": [
    {
      "cell_type": "code",
      "execution_count": null,
      "metadata": {
        "id": "6QMuX8q1KcTl"
      },
      "outputs": [],
      "source": []
    },
    {
      "cell_type": "code",
      "execution_count": 1,
      "metadata": {
        "colab": {
          "base_uri": "https://localhost:8080/"
        },
        "id": "_Ik1-d8MKiCU",
        "outputId": "cef06dd6-edc2-460b-b44f-f17b87bec605"
      },
      "outputs": [
        {
          "output_type": "stream",
          "name": "stdout",
          "text": [
            "Drive already mounted at /content/drive; to attempt to forcibly remount, call drive.mount(\"/content/drive\", force_remount=True).\n"
          ]
        }
      ],
      "source": [
        "from google.colab import drive\n",
        "drive.mount('/content/drive')"
      ]
    },
    {
      "cell_type": "code",
      "execution_count": 2,
      "metadata": {
        "id": "d6shmq_-KZ8V"
      },
      "outputs": [],
      "source": [
        "import pandas as pd\n",
        "import numpy as np\n",
        "import matplotlib.pyplot as plt\n",
        "from keras.models import Sequential\n",
        "from tensorflow.keras import layers,models,optimizers\n",
        "from sklearn.metrics import accuracy_score,confusion_matrix\n",
        "from tensorflow.keras.callbacks import ModelCheckpoint,EarlyStopping"
      ]
    },
    {
      "cell_type": "code",
      "execution_count": 3,
      "metadata": {
        "id": "MA4Hv2PoKZ9D"
      },
      "outputs": [],
      "source": [
        "import ipywidgets as widgets\n",
        "import io\n",
        "from PIL import Image\n",
        "from sklearn.model_selection import train_test_split\n",
        "import cv2\n",
        "from sklearn.utils import shuffle\n",
        "import tensorflow as tf\n",
        "import os"
      ]
    },
    {
      "cell_type": "code",
      "execution_count": 4,
      "metadata": {
        "id": "1C0Ho2wxKZ9O"
      },
      "outputs": [],
      "source": [
        "X_train=[]\n",
        "Y_train=[]\n",
        "image_size=150\n",
        "labels=['glioma','meningioma','notumor','pituitary']\n",
        "\n",
        "for i in labels:\n",
        "          folderPath=os.path.join(r\"/content/drive/MyDrive/Brain Tumor/Training\",i) #Assigning the folder path and its subfolders.\n",
        "          for j in os.listdir(folderPath):                   #Opening the subfolders and reading the image.\n",
        "                  img=cv2.imread(os.path.join(folderPath,j)) #Reading the image inside subfloders.\n",
        "                  img=cv2.resize(img,(image_size,image_size)) #Resizing the image.\n",
        "                  X_train.append(img)\n",
        "                  Y_train.append(i)\n",
        "\n",
        "for i in labels:\n",
        "          folderPath=os.path.join(r\"/content/drive/MyDrive/Brain Tumor/Testing\",i)\n",
        "          for j in os.listdir(folderPath):\n",
        "                  img=cv2.imread(os.path.join(folderPath,j))\n",
        "                  img=cv2.resize(img,(image_size,image_size))\n",
        "                  X_train.append(img)\n",
        "                  Y_train.append(i)"
      ]
    },
    {
      "cell_type": "code",
      "execution_count": 5,
      "metadata": {
        "id": "_yyjvCNaKZ9W"
      },
      "outputs": [],
      "source": [
        "label_dict={0:\"glioma\",1:\"meningioma\",2:\"notumor\",3:\"pituitary\"}"
      ]
    },
    {
      "cell_type": "code",
      "execution_count": 6,
      "metadata": {
        "id": "blxC1pwCKZ9b"
      },
      "outputs": [],
      "source": [
        "X_train=np.array(X_train)\n",
        "Y_train=np.array(Y_train)"
      ]
    },
    {
      "cell_type": "code",
      "execution_count": 7,
      "metadata": {
        "colab": {
          "base_uri": "https://localhost:8080/"
        },
        "id": "AKDRTf4gKZ9h",
        "outputId": "5ed7004d-8aa2-49b2-9046-658acd9123cd"
      },
      "outputs": [
        {
          "output_type": "execute_result",
          "data": {
            "text/plain": [
              "(7023, 150, 150, 3)"
            ]
          },
          "metadata": {},
          "execution_count": 7
        }
      ],
      "source": [
        "X_train.shape"
      ]
    },
    {
      "cell_type": "code",
      "execution_count": 8,
      "metadata": {
        "colab": {
          "base_uri": "https://localhost:8080/"
        },
        "id": "ipWgTdxzKZ9o",
        "outputId": "564d9dab-48d7-4cc1-e0b5-e1cfc2fc9359"
      },
      "outputs": [
        {
          "output_type": "execute_result",
          "data": {
            "text/plain": [
              "(7023,)"
            ]
          },
          "metadata": {},
          "execution_count": 8
        }
      ],
      "source": [
        "Y_train.shape"
      ]
    },
    {
      "cell_type": "code",
      "execution_count": 9,
      "metadata": {
        "id": "HV9UaFTkKZ9s"
      },
      "outputs": [],
      "source": [
        "X_train,Y_train=shuffle(X_train,Y_train,random_state=42)"
      ]
    },
    {
      "cell_type": "code",
      "execution_count": 10,
      "metadata": {
        "colab": {
          "base_uri": "https://localhost:8080/"
        },
        "id": "Gy0QopAhKZ9z",
        "outputId": "9a0ce4b6-9fb2-456d-fba0-b3880f6e8598"
      },
      "outputs": [
        {
          "output_type": "execute_result",
          "data": {
            "text/plain": [
              "(7023, 150, 150, 3)"
            ]
          },
          "metadata": {},
          "execution_count": 10
        }
      ],
      "source": [
        "X_train.shape"
      ]
    },
    {
      "cell_type": "code",
      "execution_count": 11,
      "metadata": {
        "colab": {
          "base_uri": "https://localhost:8080/",
          "height": 36
        },
        "id": "hYV3iqPfQ_kv",
        "outputId": "3c3e30cb-f1d4-41d0-8802-0221d67d0bce"
      },
      "outputs": [
        {
          "output_type": "execute_result",
          "data": {
            "text/plain": [
              "'n'"
            ],
            "application/vnd.google.colaboratory.intrinsic+json": {
              "type": "string"
            }
          },
          "metadata": {},
          "execution_count": 11
        }
      ],
      "source": [
        "Y_train[10][0]"
      ]
    },
    {
      "cell_type": "code",
      "execution_count": 12,
      "metadata": {
        "id": "Zn_8Pb3KKZ95"
      },
      "outputs": [],
      "source": [
        "x_train,x_test,y_train,y_test=train_test_split(X_train,Y_train,test_size=0.2,random_state=101)"
      ]
    },
    {
      "cell_type": "code",
      "execution_count": 13,
      "metadata": {
        "colab": {
          "base_uri": "https://localhost:8080/"
        },
        "id": "a4BManZjKZ97",
        "outputId": "4084f8f1-3a7c-4834-a5f9-2791f4cba205"
      },
      "outputs": [
        {
          "output_type": "execute_result",
          "data": {
            "text/plain": [
              "1"
            ]
          },
          "metadata": {},
          "execution_count": 13
        }
      ],
      "source": [
        "labels.index('meningioma')"
      ]
    },
    {
      "cell_type": "code",
      "execution_count": 14,
      "metadata": {
        "id": "BwUpUOvVKZ99"
      },
      "outputs": [],
      "source": [
        "y_train_new=[]\n",
        "\n",
        "for i in y_train:\n",
        "          y_train_new.append(labels.index(i))\n",
        "\n",
        "y_train=y_train_new"
      ]
    },
    {
      "cell_type": "code",
      "execution_count": 15,
      "metadata": {
        "id": "WXdAAGSXTRCr"
      },
      "outputs": [],
      "source": [
        "y_train=pd.DataFrame(y_train)"
      ]
    },
    {
      "cell_type": "code",
      "execution_count": 16,
      "metadata": {
        "colab": {
          "base_uri": "https://localhost:8080/"
        },
        "id": "C0kXTEa5SZcp",
        "outputId": "f76266d2-d136-42b8-fc5a-49e172dade43"
      },
      "outputs": [
        {
          "output_type": "execute_result",
          "data": {
            "text/plain": [
              "(5618, 1)"
            ]
          },
          "metadata": {},
          "execution_count": 16
        }
      ],
      "source": [
        "y_train.shape"
      ]
    },
    {
      "cell_type": "code",
      "execution_count": 17,
      "metadata": {
        "colab": {
          "base_uri": "https://localhost:8080/"
        },
        "id": "ZhmdXX1oUArQ",
        "outputId": "9cdd4b6f-a449-4997-8d45-3ff2f2947259"
      },
      "outputs": [
        {
          "output_type": "execute_result",
          "data": {
            "text/plain": [
              "2"
            ]
          },
          "metadata": {},
          "execution_count": 17
        }
      ],
      "source": [
        "y_train[0][3]"
      ]
    },
    {
      "cell_type": "code",
      "execution_count": 18,
      "metadata": {
        "colab": {
          "base_uri": "https://localhost:8080/",
          "height": 486
        },
        "id": "BVIuKe0KReol",
        "outputId": "3dbaaf16-d719-4136-c423-e577d8b52279"
      },
      "outputs": [
        {
          "output_type": "stream",
          "name": "stdout",
          "text": [
            "Label \n",
            " Label Id: 2 \n",
            " Name: notumor\n"
          ]
        },
        {
          "output_type": "display_data",
          "data": {
            "text/plain": [
              "<Figure size 640x480 with 1 Axes>"
            ],
            "image/png": "[encoded data removed]"
          },
          "metadata": {}
        }
      ],
      "source": [
        "i=20\n",
        "image=X_train[i]\n",
        "label=y_train[0][i]\n",
        "print(f'Label \\n Label Id: {label} \\n Name: {label_dict[label]}')\n",
        "plt.imshow(image);\n"
      ]
    },
    {
      "cell_type": "code",
      "execution_count": 19,
      "metadata": {
        "id": "vV9w3WLnKZ9_"
      },
      "outputs": [],
      "source": [
        "y_train=tf.keras.utils.to_categorical(y_train)"
      ]
    },
    {
      "cell_type": "code",
      "execution_count": 20,
      "metadata": {
        "colab": {
          "base_uri": "https://localhost:8080/"
        },
        "id": "TGRHQQvlKZ-A",
        "outputId": "4ad0f920-8a6d-420b-fbab-b11380eff4f3"
      },
      "outputs": [
        {
          "output_type": "execute_result",
          "data": {
            "text/plain": [
              "array([[0., 1., 0., 0.],\n",
              "       [1., 0., 0., 0.],\n",
              "       [1., 0., 0., 0.],\n",
              "       ...,\n",
              "       [1., 0., 0., 0.],\n",
              "       [0., 1., 0., 0.],\n",
              "       [1., 0., 0., 0.]], dtype=float32)"
            ]
          },
          "metadata": {},
          "execution_count": 20
        }
      ],
      "source": [
        "y_train"
      ]
    },
    {
      "cell_type": "code",
      "execution_count": 21,
      "metadata": {
        "colab": {
          "base_uri": "https://localhost:8080/"
        },
        "id": "-qE_87QHKZ-D",
        "outputId": "6b300ba8-40bd-4d41-91bf-d2c41f2cb4af"
      },
      "outputs": [
        {
          "output_type": "execute_result",
          "data": {
            "text/plain": [
              "array(['pituitary', 'notumor', 'notumor', ..., 'meningioma', 'notumor',\n",
              "       'glioma'], dtype='<U10')"
            ]
          },
          "metadata": {},
          "execution_count": 21
        }
      ],
      "source": [
        "y_test"
      ]
    },
    {
      "cell_type": "code",
      "execution_count": 22,
      "metadata": {
        "id": "-FqJ12AAKZ-E"
      },
      "outputs": [],
      "source": [
        "y_test_new=[]\n",
        "\n",
        "for i in y_test:\n",
        "          y_test_new.append(labels.index(i))\n",
        "\n",
        "y_test=y_test_new"
      ]
    },
    {
      "cell_type": "code",
      "execution_count": 23,
      "metadata": {
        "id": "nkM30Fn6KZ-F"
      },
      "outputs": [],
      "source": [
        "y_test=tf.keras.utils.to_categorical(y_test)"
      ]
    },
    {
      "cell_type": "code",
      "execution_count": 24,
      "metadata": {
        "colab": {
          "base_uri": "https://localhost:8080/"
        },
        "id": "kwoHQIkFKZ-G",
        "outputId": "982257af-7edc-4d48-a180-a3daedb5dbbb"
      },
      "outputs": [
        {
          "output_type": "execute_result",
          "data": {
            "text/plain": [
              "array([[0., 0., 0., 1.],\n",
              "       [0., 0., 1., 0.],\n",
              "       [0., 0., 1., 0.],\n",
              "       ...,\n",
              "       [0., 1., 0., 0.],\n",
              "       [0., 0., 1., 0.],\n",
              "       [1., 0., 0., 0.]], dtype=float32)"
            ]
          },
          "metadata": {},
          "execution_count": 24
        }
      ],
      "source": [
        "y_test"
      ]
    },
    {
      "cell_type": "code",
      "execution_count": 25,
      "metadata": {
        "colab": {
          "base_uri": "https://localhost:8080/"
        },
        "id": "vR7qVL0zKZ-H",
        "outputId": "9559cf0b-e4f6-4b95-bb8d-d510b1f3ead9"
      },
      "outputs": [
        {
          "output_type": "execute_result",
          "data": {
            "text/plain": [
              "(5618, 150, 150, 3)"
            ]
          },
          "metadata": {},
          "execution_count": 25
        }
      ],
      "source": [
        "x_train.shape"
      ]
    },
    {
      "cell_type": "code",
      "execution_count": 26,
      "metadata": {
        "id": "Z5xmzAuEKZ-J"
      },
      "outputs": [],
      "source": [
        "Input_dim=x_train.shape[1:]"
      ]
    },
    {
      "cell_type": "code",
      "execution_count": 27,
      "metadata": {
        "colab": {
          "base_uri": "https://localhost:8080/"
        },
        "id": "_mg3-PhGKZ-J",
        "outputId": "442914e9-997f-4ac2-c4e1-9fa6e21b5676"
      },
      "outputs": [
        {
          "output_type": "execute_result",
          "data": {
            "text/plain": [
              "(150, 150, 3)"
            ]
          },
          "metadata": {},
          "execution_count": 27
        }
      ],
      "source": [
        "Input_dim"
      ]
    },
    {
      "cell_type": "markdown",
      "metadata": {
        "id": "BQZLE0LdKZ-L"
      },
      "source": [
        "Creating the CNN model."
      ]
    },
    {
      "cell_type": "code",
      "execution_count": 28,
      "metadata": {
        "id": "VXNM1FsEKZ-U"
      },
      "outputs": [],
      "source": [
        "model=models.Sequential()\n",
        "model.add(layers.Conv2D(32,(3,3),activation='relu',padding='same',input_shape=Input_dim))\n",
        "model.add(layers.Conv2D(64,(3,3),padding='same',activation='relu'))\n",
        "model.add(layers.MaxPool2D(2,2))\n",
        "model.add(layers.Conv2D(64,(3,3),padding='same',activation='relu'))\n",
        "model.add(layers.MaxPool2D(2,2))\n",
        "model.add(layers.Conv2D(128,(3,3),padding='same',activation='relu'))\n",
        "model.add(layers.MaxPool2D(2,2))\n",
        "model.add(layers.Dropout(0.25))\n",
        "model.add(layers.Conv2D(256,(3,3),padding='same',activation='relu'))\n",
        "model.add(layers.MaxPool2D(2,2))\n",
        "model.add(layers.Dropout(0.25))\n",
        "model.add(layers.Conv2D(512,(3,3),padding='same',activation='relu'))\n",
        "model.add(layers.MaxPool2D(2,2))\n",
        "model.add(layers.Dropout(0.25))\n",
        "\n",
        "model.add(layers.Flatten())\n",
        "model.add(layers.Dense(64,activation='relu'))\n",
        "model.add(layers.Dropout(0.25))\n",
        "model.add(layers.Dense(4,activation='softmax'))\n",
        "\n"
      ]
    },
    {
      "cell_type": "code",
      "execution_count": 29,
      "metadata": {
        "colab": {
          "base_uri": "https://localhost:8080/"
        },
        "id": "CQOW5t2mKZ-X",
        "outputId": "bdbadbd7-f8f7-4f97-9e7d-b4a00556fd22"
      },
      "outputs": [
        {
          "output_type": "stream",
          "name": "stdout",
          "text": [
            "Model: \"sequential\"\n",
            "_________________________________________________________________\n",
            " Layer (type)                Output Shape              Param #   \n",
            "=================================================================\n",
            " conv2d (Conv2D)             (None, 150, 150, 32)      896       \n",
            "                                                                 \n",
            " conv2d_1 (Conv2D)           (None, 150, 150, 64)      18496     \n",
            "                                                                 \n",
            " max_pooling2d (MaxPooling2  (None, 75, 75, 64)        0         \n",
            " D)                                                              \n",
            "                                                                 \n",
            " conv2d_2 (Conv2D)           (None, 75, 75, 64)        36928     \n",
            "                                                                 \n",
            " max_pooling2d_1 (MaxPoolin  (None, 37, 37, 64)        0         \n",
            " g2D)                                                            \n",
            "                                                                 \n",
            " conv2d_3 (Conv2D)           (None, 37, 37, 128)       73856     \n",
            "                                                                 \n",
            " max_pooling2d_2 (MaxPoolin  (None, 18, 18, 128)       0         \n",
            " g2D)                                                            \n",
            "                                                                 \n",
            " dropout (Dropout)           (None, 18, 18, 128)       0         \n",
            "                                                                 \n",
            " conv2d_4 (Conv2D)           (None, 18, 18, 256)       295168    \n",
            "                                                                 \n",
            " max_pooling2d_3 (MaxPoolin  (None, 9, 9, 256)         0         \n",
            " g2D)                                                            \n",
            "                                                                 \n",
            " dropout_1 (Dropout)         (None, 9, 9, 256)         0         \n",
            "                                                                 \n",
            " conv2d_5 (Conv2D)           (None, 9, 9, 512)         1180160   \n",
            "                                                                 \n",
            " max_pooling2d_4 (MaxPoolin  (None, 4, 4, 512)         0         \n",
            " g2D)                                                            \n",
            "                                                                 \n",
            " dropout_2 (Dropout)         (None, 4, 4, 512)         0         \n",
            "                                                                 \n",
            " flatten (Flatten)           (None, 8192)              0         \n",
            "                                                                 \n",
            " dense (Dense)               (None, 64)                524352    \n",
            "                                                                 \n",
            " dropout_3 (Dropout)         (None, 64)                0         \n",
            "                                                                 \n",
            " dense_1 (Dense)             (None, 4)                 260       \n",
            "                                                                 \n",
            "=================================================================\n",
            "Total params: 2130116 (8.13 MB)\n",
            "Trainable params: 2130116 (8.13 MB)\n",
            "Non-trainable params: 0 (0.00 Byte)\n",
            "_________________________________________________________________\n"
          ]
        }
      ],
      "source": [
        "model.summary()"
      ]
    },
    {
      "cell_type": "code",
      "execution_count": 30,
      "metadata": {
        "id": "HY7hjx_ZktHg"
      },
      "outputs": [],
      "source": [
        "#opt=optimizers.Adam(learning_rate=0.001,beta_1=0.9,beta_2=0.999,epsilon=1e-08)"
      ]
    },
    {
      "cell_type": "code",
      "execution_count": 31,
      "metadata": {
        "id": "7b34PPWCKZ-Z"
      },
      "outputs": [],
      "source": [
        "model.compile(optimizer='adam',loss='categorical_crossentropy',metrics=[\"accuracy\"])"
      ]
    },
    {
      "cell_type": "code",
      "source": [
        "x_train=x_train.astype('float32')\n",
        "x_train/=255.0\n",
        "x_test=x_test.astype('float32')\n",
        "x_test/=255.0"
      ],
      "metadata": {
        "id": "8XRN41SdSdiC"
      },
      "execution_count": 32,
      "outputs": []
    },
    {
      "cell_type": "code",
      "source": [
        "early_stopping=EarlyStopping(monitor='val_loss',min_delta=0.0001,patience=30)\n",
        "model_checkpoint=ModelCheckpoint(\"Tumor_Prediction_{epoch:02d}_loss{val_loss:.4f}.h5\",\n",
        "                                 monitor='val_loss',\n",
        "                                 verbose=1,\n",
        "                                 save_best_only=True,\n",
        "                                 mode='auto',\n",
        "                                 period=1)"
      ],
      "metadata": {
        "colab": {
          "base_uri": "https://localhost:8080/"
        },
        "id": "eZ_ZnAhkSvfO",
        "outputId": "9cb7d711-6d27-4aea-eb4a-984b6416d5f3"
      },
      "execution_count": 33,
      "outputs": [
        {
          "output_type": "stream",
          "name": "stderr",
          "text": [
            "WARNING:tensorflow:`period` argument is deprecated. Please use `save_freq` to specify the frequency in number of batches seen.\n"
          ]
        }
      ]
    },
    {
      "cell_type": "code",
      "source": [
        "x_train=x_train.reshape(x_train.shape[0],150,150,3)\n",
        "x_test=x_test.reshape(x_test.shape[0],150,150,3)\n",
        "\n",
        "print(x_train.shape)\n",
        "print(x_test.shape)"
      ],
      "metadata": {
        "colab": {
          "base_uri": "https://localhost:8080/"
        },
        "id": "dTNqbh0EUBZZ",
        "outputId": "7a6ed188-3348-4ac8-de8b-d60751e10e3c"
      },
      "execution_count": 34,
      "outputs": [
        {
          "output_type": "stream",
          "name": "stdout",
          "text": [
            "(5618, 150, 150, 3)\n",
            "(1405, 150, 150, 3)\n"
          ]
        }
      ]
    },
    {
      "cell_type": "code",
      "execution_count": 35,
      "metadata": {
        "colab": {
          "base_uri": "https://localhost:8080/",
          "height": 1000
        },
        "id": "q0zB52mCKZ-b",
        "outputId": "e75e27b4-afc6-46f3-cec8-7ad8a456094a"
      },
      "outputs": [
        {
          "output_type": "stream",
          "name": "stdout",
          "text": [
            "Epoch 1/50\n",
            "176/176 [==============================] - ETA: 0s - loss: 0.9630 - accuracy: 0.5730\n",
            "Epoch 1: val_loss improved from inf to 0.65016, saving model to Tumor_Prediction_01_loss0.6502.h5\n",
            "176/176 [==============================] - 31s 120ms/step - loss: 0.9630 - accuracy: 0.5730 - val_loss: 0.6502 - val_accuracy: 0.7174\n",
            "Epoch 2/50\n",
            "  1/176 [..............................] - ETA: 13s - loss: 0.7324 - accuracy: 0.7188"
          ]
        },
        {
          "output_type": "stream",
          "name": "stderr",
          "text": [
            "/usr/local/lib/python3.10/dist-packages/keras/src/engine/training.py:3103: UserWarning: You are saving your model as an HDF5 file via `model.save()`. This file format is considered legacy. We recommend using instead the native Keras format, e.g. `model.save('my_model.keras')`.\n",
            "  saving_api.save_model(\n"
          ]
        },
        {
          "output_type": "stream",
          "name": "stdout",
          "text": [
            "176/176 [==============================] - ETA: 0s - loss: 0.6083 - accuracy: 0.7433\n",
            "Epoch 2: val_loss improved from 0.65016 to 0.47262, saving model to Tumor_Prediction_02_loss0.4726.h5\n",
            "176/176 [==============================] - 16s 89ms/step - loss: 0.6083 - accuracy: 0.7433 - val_loss: 0.4726 - val_accuracy: 0.8214\n",
            "Epoch 3/50\n",
            "176/176 [==============================] - ETA: 0s - loss: 0.4947 - accuracy: 0.7989\n",
            "Epoch 3: val_loss improved from 0.47262 to 0.36653, saving model to Tumor_Prediction_03_loss0.3665.h5\n",
            "176/176 [==============================] - 16s 90ms/step - loss: 0.4947 - accuracy: 0.7989 - val_loss: 0.3665 - val_accuracy: 0.8598\n",
            "Epoch 4/50\n",
            "176/176 [==============================] - ETA: 0s - loss: 0.4204 - accuracy: 0.8311\n",
            "Epoch 4: val_loss did not improve from 0.36653\n",
            "176/176 [==============================] - 16s 92ms/step - loss: 0.4204 - accuracy: 0.8311 - val_loss: 0.4056 - val_accuracy: 0.8199\n",
            "Epoch 5/50\n",
            "176/176 [==============================] - ETA: 0s - loss: 0.3738 - accuracy: 0.8469\n",
            "Epoch 5: val_loss improved from 0.36653 to 0.33646, saving model to Tumor_Prediction_05_loss0.3365.h5\n",
            "176/176 [==============================] - 16s 92ms/step - loss: 0.3738 - accuracy: 0.8469 - val_loss: 0.3365 - val_accuracy: 0.8797\n",
            "Epoch 6/50\n",
            "176/176 [==============================] - ETA: 0s - loss: 0.3123 - accuracy: 0.8777\n",
            "Epoch 6: val_loss improved from 0.33646 to 0.24327, saving model to Tumor_Prediction_06_loss0.2433.h5\n",
            "176/176 [==============================] - 16s 90ms/step - loss: 0.3123 - accuracy: 0.8777 - val_loss: 0.2433 - val_accuracy: 0.8989\n",
            "Epoch 7/50\n",
            "176/176 [==============================] - ETA: 0s - loss: 0.2567 - accuracy: 0.9000\n",
            "Epoch 7: val_loss improved from 0.24327 to 0.21602, saving model to Tumor_Prediction_07_loss0.2160.h5\n",
            "176/176 [==============================] - 16s 90ms/step - loss: 0.2567 - accuracy: 0.9000 - val_loss: 0.2160 - val_accuracy: 0.9231\n",
            "Epoch 8/50\n",
            "176/176 [==============================] - ETA: 0s - loss: 0.2111 - accuracy: 0.9235\n",
            "Epoch 8: val_loss did not improve from 0.21602\n",
            "176/176 [==============================] - 16s 91ms/step - loss: 0.2111 - accuracy: 0.9235 - val_loss: 0.2601 - val_accuracy: 0.9117\n",
            "Epoch 9/50\n",
            "176/176 [==============================] - ETA: 0s - loss: 0.1874 - accuracy: 0.9300\n",
            "Epoch 9: val_loss improved from 0.21602 to 0.19507, saving model to Tumor_Prediction_09_loss0.1951.h5\n",
            "176/176 [==============================] - 16s 90ms/step - loss: 0.1874 - accuracy: 0.9300 - val_loss: 0.1951 - val_accuracy: 0.9374\n",
            "Epoch 10/50\n",
            "176/176 [==============================] - ETA: 0s - loss: 0.1739 - accuracy: 0.9391\n",
            "Epoch 10: val_loss improved from 0.19507 to 0.18829, saving model to Tumor_Prediction_10_loss0.1883.h5\n",
            "176/176 [==============================] - 16s 92ms/step - loss: 0.1739 - accuracy: 0.9391 - val_loss: 0.1883 - val_accuracy: 0.9281\n",
            "Epoch 11/50\n",
            "176/176 [==============================] - ETA: 0s - loss: 0.1281 - accuracy: 0.9562\n",
            "Epoch 11: val_loss improved from 0.18829 to 0.17264, saving model to Tumor_Prediction_11_loss0.1726.h5\n",
            "176/176 [==============================] - 16s 91ms/step - loss: 0.1281 - accuracy: 0.9562 - val_loss: 0.1726 - val_accuracy: 0.9523\n",
            "Epoch 12/50\n",
            "176/176 [==============================] - ETA: 0s - loss: 0.1302 - accuracy: 0.9534\n",
            "Epoch 12: val_loss improved from 0.17264 to 0.15731, saving model to Tumor_Prediction_12_loss0.1573.h5\n",
            "176/176 [==============================] - 16s 94ms/step - loss: 0.1302 - accuracy: 0.9534 - val_loss: 0.1573 - val_accuracy: 0.9509\n",
            "Epoch 13/50\n",
            "176/176 [==============================] - ETA: 0s - loss: 0.1106 - accuracy: 0.9633\n",
            "Epoch 13: val_loss improved from 0.15731 to 0.14286, saving model to Tumor_Prediction_13_loss0.1429.h5\n",
            "176/176 [==============================] - 16s 93ms/step - loss: 0.1106 - accuracy: 0.9633 - val_loss: 0.1429 - val_accuracy: 0.9616\n",
            "Epoch 14/50\n",
            "176/176 [==============================] - ETA: 0s - loss: 0.0934 - accuracy: 0.9653\n",
            "Epoch 14: val_loss did not improve from 0.14286\n",
            "176/176 [==============================] - 16s 92ms/step - loss: 0.0934 - accuracy: 0.9653 - val_loss: 0.1484 - val_accuracy: 0.9580\n",
            "Epoch 15/50\n",
            "176/176 [==============================] - ETA: 0s - loss: 0.1024 - accuracy: 0.9640\n",
            "Epoch 15: val_loss did not improve from 0.14286\n",
            "176/176 [==============================] - 16s 91ms/step - loss: 0.1024 - accuracy: 0.9640 - val_loss: 0.1704 - val_accuracy: 0.9402\n",
            "Epoch 16/50\n",
            "176/176 [==============================] - ETA: 0s - loss: 0.0916 - accuracy: 0.9665\n",
            "Epoch 16: val_loss improved from 0.14286 to 0.12833, saving model to Tumor_Prediction_16_loss0.1283.h5\n",
            "176/176 [==============================] - 16s 89ms/step - loss: 0.0916 - accuracy: 0.9665 - val_loss: 0.1283 - val_accuracy: 0.9530\n",
            "Epoch 17/50\n",
            "176/176 [==============================] - ETA: 0s - loss: 0.0837 - accuracy: 0.9689\n",
            "Epoch 17: val_loss did not improve from 0.12833\n",
            "176/176 [==============================] - 16s 92ms/step - loss: 0.0837 - accuracy: 0.9689 - val_loss: 0.2197 - val_accuracy: 0.9395\n",
            "Epoch 18/50\n",
            "176/176 [==============================] - ETA: 0s - loss: 0.0664 - accuracy: 0.9772\n",
            "Epoch 18: val_loss did not improve from 0.12833\n",
            "176/176 [==============================] - 16s 89ms/step - loss: 0.0664 - accuracy: 0.9772 - val_loss: 0.1941 - val_accuracy: 0.9509\n",
            "Epoch 19/50\n",
            "176/176 [==============================] - ETA: 0s - loss: 0.0684 - accuracy: 0.9767\n",
            "Epoch 19: val_loss did not improve from 0.12833\n",
            "176/176 [==============================] - 16s 91ms/step - loss: 0.0684 - accuracy: 0.9767 - val_loss: 0.1595 - val_accuracy: 0.9580\n",
            "Epoch 20/50\n",
            "176/176 [==============================] - ETA: 0s - loss: 0.0707 - accuracy: 0.9772\n",
            "Epoch 20: val_loss did not improve from 0.12833\n",
            "176/176 [==============================] - 16s 90ms/step - loss: 0.0707 - accuracy: 0.9772 - val_loss: 0.1418 - val_accuracy: 0.9594\n",
            "Epoch 21/50\n",
            "176/176 [==============================] - ETA: 0s - loss: 0.0598 - accuracy: 0.9797\n",
            "Epoch 21: val_loss improved from 0.12833 to 0.12181, saving model to Tumor_Prediction_21_loss0.1218.h5\n",
            "176/176 [==============================] - 16s 90ms/step - loss: 0.0598 - accuracy: 0.9797 - val_loss: 0.1218 - val_accuracy: 0.9673\n",
            "Epoch 22/50\n",
            "176/176 [==============================] - ETA: 0s - loss: 0.0516 - accuracy: 0.9818\n",
            "Epoch 22: val_loss did not improve from 0.12181\n",
            "176/176 [==============================] - 16s 88ms/step - loss: 0.0516 - accuracy: 0.9818 - val_loss: 0.1296 - val_accuracy: 0.9687\n",
            "Epoch 23/50\n",
            "176/176 [==============================] - ETA: 0s - loss: 0.0610 - accuracy: 0.9806\n",
            "Epoch 23: val_loss did not improve from 0.12181\n",
            "176/176 [==============================] - 16s 88ms/step - loss: 0.0610 - accuracy: 0.9806 - val_loss: 0.1817 - val_accuracy: 0.9523\n",
            "Epoch 24/50\n",
            "176/176 [==============================] - ETA: 0s - loss: 0.0412 - accuracy: 0.9842\n",
            "Epoch 24: val_loss did not improve from 0.12181\n",
            "176/176 [==============================] - 16s 91ms/step - loss: 0.0412 - accuracy: 0.9842 - val_loss: 0.1600 - val_accuracy: 0.9658\n",
            "Epoch 25/50\n",
            "176/176 [==============================] - ETA: 0s - loss: 0.0726 - accuracy: 0.9756\n",
            "Epoch 25: val_loss did not improve from 0.12181\n",
            "176/176 [==============================] - 16s 91ms/step - loss: 0.0726 - accuracy: 0.9756 - val_loss: 0.1288 - val_accuracy: 0.9680\n",
            "Epoch 26/50\n",
            "176/176 [==============================] - ETA: 0s - loss: 0.0564 - accuracy: 0.9831\n",
            "Epoch 26: val_loss did not improve from 0.12181\n",
            "176/176 [==============================] - 16s 90ms/step - loss: 0.0564 - accuracy: 0.9831 - val_loss: 0.1234 - val_accuracy: 0.9687\n",
            "Epoch 27/50\n",
            "176/176 [==============================] - ETA: 0s - loss: 0.0407 - accuracy: 0.9870\n",
            "Epoch 27: val_loss did not improve from 0.12181\n",
            "176/176 [==============================] - 16s 92ms/step - loss: 0.0407 - accuracy: 0.9870 - val_loss: 0.1547 - val_accuracy: 0.9694\n",
            "Epoch 28/50\n",
            "176/176 [==============================] - ETA: 0s - loss: 0.0505 - accuracy: 0.9833\n",
            "Epoch 28: val_loss did not improve from 0.12181\n",
            "176/176 [==============================] - 16s 90ms/step - loss: 0.0505 - accuracy: 0.9833 - val_loss: 0.1666 - val_accuracy: 0.9637\n",
            "Epoch 29/50\n",
            "176/176 [==============================] - ETA: 0s - loss: 0.0491 - accuracy: 0.9843\n",
            "Epoch 29: val_loss did not improve from 0.12181\n",
            "176/176 [==============================] - 16s 88ms/step - loss: 0.0491 - accuracy: 0.9843 - val_loss: 0.1460 - val_accuracy: 0.9694\n",
            "Epoch 30/50\n",
            "176/176 [==============================] - ETA: 0s - loss: 0.0632 - accuracy: 0.9820\n",
            "Epoch 30: val_loss improved from 0.12181 to 0.10332, saving model to Tumor_Prediction_30_loss0.1033.h5\n",
            "176/176 [==============================] - 16s 91ms/step - loss: 0.0632 - accuracy: 0.9820 - val_loss: 0.1033 - val_accuracy: 0.9730\n",
            "Epoch 31/50\n",
            "176/176 [==============================] - ETA: 0s - loss: 0.0270 - accuracy: 0.9915\n",
            "Epoch 31: val_loss did not improve from 0.10332\n",
            "176/176 [==============================] - 15s 88ms/step - loss: 0.0270 - accuracy: 0.9915 - val_loss: 0.1905 - val_accuracy: 0.9658\n",
            "Epoch 32/50\n",
            "176/176 [==============================] - ETA: 0s - loss: 0.0592 - accuracy: 0.9840\n",
            "Epoch 32: val_loss did not improve from 0.10332\n",
            "176/176 [==============================] - 16s 89ms/step - loss: 0.0592 - accuracy: 0.9840 - val_loss: 0.1297 - val_accuracy: 0.9687\n",
            "Epoch 33/50\n",
            "176/176 [==============================] - ETA: 0s - loss: 0.0413 - accuracy: 0.9863\n",
            "Epoch 33: val_loss did not improve from 0.10332\n",
            "176/176 [==============================] - 16s 90ms/step - loss: 0.0413 - accuracy: 0.9863 - val_loss: 0.1930 - val_accuracy: 0.9580\n",
            "Epoch 34/50\n",
            "176/176 [==============================] - ETA: 0s - loss: 0.0385 - accuracy: 0.9895\n",
            "Epoch 34: val_loss did not improve from 0.10332\n",
            "176/176 [==============================] - 16s 89ms/step - loss: 0.0385 - accuracy: 0.9895 - val_loss: 0.1492 - val_accuracy: 0.9744\n",
            "Epoch 35/50\n",
            "176/176 [==============================] - ETA: 0s - loss: 0.0276 - accuracy: 0.9920\n",
            "Epoch 35: val_loss did not improve from 0.10332\n",
            "176/176 [==============================] - 16s 91ms/step - loss: 0.0276 - accuracy: 0.9920 - val_loss: 0.1652 - val_accuracy: 0.9730\n",
            "Epoch 36/50\n",
            "176/176 [==============================] - ETA: 0s - loss: 0.0378 - accuracy: 0.9877\n",
            "Epoch 36: val_loss did not improve from 0.10332\n",
            "176/176 [==============================] - 16s 88ms/step - loss: 0.0378 - accuracy: 0.9877 - val_loss: 0.1437 - val_accuracy: 0.9701\n",
            "Epoch 37/50\n",
            "176/176 [==============================] - ETA: 0s - loss: 0.0183 - accuracy: 0.9945\n",
            "Epoch 37: val_loss did not improve from 0.10332\n",
            "176/176 [==============================] - 15s 88ms/step - loss: 0.0183 - accuracy: 0.9945 - val_loss: 0.1992 - val_accuracy: 0.9637\n",
            "Epoch 38/50\n",
            "176/176 [==============================] - ETA: 0s - loss: 0.0292 - accuracy: 0.9893\n",
            "Epoch 38: val_loss did not improve from 0.10332\n",
            "176/176 [==============================] - 16s 91ms/step - loss: 0.0292 - accuracy: 0.9893 - val_loss: 0.2021 - val_accuracy: 0.9609\n",
            "Epoch 39/50\n",
            "176/176 [==============================] - ETA: 0s - loss: 0.0402 - accuracy: 0.9883\n",
            "Epoch 39: val_loss did not improve from 0.10332\n",
            "176/176 [==============================] - 16s 88ms/step - loss: 0.0402 - accuracy: 0.9883 - val_loss: 0.1447 - val_accuracy: 0.9765\n",
            "Epoch 40/50\n",
            "176/176 [==============================] - ETA: 0s - loss: 0.0304 - accuracy: 0.9927\n",
            "Epoch 40: val_loss did not improve from 0.10332\n",
            "176/176 [==============================] - 16s 92ms/step - loss: 0.0304 - accuracy: 0.9927 - val_loss: 0.1345 - val_accuracy: 0.9651\n",
            "Epoch 41/50\n",
            "176/176 [==============================] - ETA: 0s - loss: 0.0119 - accuracy: 0.9963\n",
            "Epoch 41: val_loss did not improve from 0.10332\n",
            "176/176 [==============================] - 16s 92ms/step - loss: 0.0119 - accuracy: 0.9963 - val_loss: 0.1949 - val_accuracy: 0.9694\n",
            "Epoch 42/50\n",
            "176/176 [==============================] - ETA: 0s - loss: 0.0380 - accuracy: 0.9884\n",
            "Epoch 42: val_loss did not improve from 0.10332\n",
            "176/176 [==============================] - 16s 91ms/step - loss: 0.0380 - accuracy: 0.9884 - val_loss: 0.1184 - val_accuracy: 0.9722\n",
            "Epoch 43/50\n",
            "176/176 [==============================] - ETA: 0s - loss: 0.0479 - accuracy: 0.9847\n",
            "Epoch 43: val_loss did not improve from 0.10332\n",
            "176/176 [==============================] - 16s 89ms/step - loss: 0.0479 - accuracy: 0.9847 - val_loss: 0.1372 - val_accuracy: 0.9644\n",
            "Epoch 44/50\n",
            "176/176 [==============================] - ETA: 0s - loss: 0.0448 - accuracy: 0.9870\n",
            "Epoch 44: val_loss did not improve from 0.10332\n",
            "176/176 [==============================] - 16s 90ms/step - loss: 0.0448 - accuracy: 0.9870 - val_loss: 0.1327 - val_accuracy: 0.9694\n",
            "Epoch 45/50\n",
            "176/176 [==============================] - ETA: 0s - loss: 0.0392 - accuracy: 0.9867\n",
            "Epoch 45: val_loss did not improve from 0.10332\n",
            "176/176 [==============================] - 15s 87ms/step - loss: 0.0392 - accuracy: 0.9867 - val_loss: 0.1923 - val_accuracy: 0.9673\n",
            "Epoch 46/50\n",
            "176/176 [==============================] - ETA: 0s - loss: 0.0357 - accuracy: 0.9915\n",
            "Epoch 46: val_loss did not improve from 0.10332\n",
            "176/176 [==============================] - 16s 89ms/step - loss: 0.0357 - accuracy: 0.9915 - val_loss: 0.1404 - val_accuracy: 0.9687\n",
            "Epoch 47/50\n",
            "176/176 [==============================] - ETA: 0s - loss: 0.0294 - accuracy: 0.9922\n",
            "Epoch 47: val_loss did not improve from 0.10332\n",
            "176/176 [==============================] - 15s 87ms/step - loss: 0.0294 - accuracy: 0.9922 - val_loss: 0.1799 - val_accuracy: 0.9708\n",
            "Epoch 48/50\n",
            "176/176 [==============================] - ETA: 0s - loss: 0.0248 - accuracy: 0.9918\n",
            "Epoch 48: val_loss did not improve from 0.10332\n",
            "176/176 [==============================] - 16s 89ms/step - loss: 0.0248 - accuracy: 0.9918 - val_loss: 0.1804 - val_accuracy: 0.9694\n",
            "Epoch 49/50\n",
            "176/176 [==============================] - ETA: 0s - loss: 0.0185 - accuracy: 0.9941\n",
            "Epoch 49: val_loss did not improve from 0.10332\n",
            "176/176 [==============================] - 16s 91ms/step - loss: 0.0185 - accuracy: 0.9941 - val_loss: 0.1575 - val_accuracy: 0.9779\n",
            "Epoch 50/50\n",
            "176/176 [==============================] - ETA: 0s - loss: 0.0176 - accuracy: 0.9936\n",
            "Epoch 50: val_loss did not improve from 0.10332\n",
            "176/176 [==============================] - 15s 88ms/step - loss: 0.0176 - accuracy: 0.9936 - val_loss: 0.1342 - val_accuracy: 0.9751\n"
          ]
        },
        {
          "output_type": "display_data",
          "data": {
            "text/plain": [
              "<Figure size 640x480 with 1 Axes>"
            ],
            "image/png": "[encoded data removed]"
          },
          "metadata": {}
        }
      ],
      "source": [
        "history=model.fit(x_train,y_train,\n",
        "                  epochs=50,\n",
        "                  validation_data=(x_test,y_test),\n",
        "                  shuffle=True,\n",
        "                  verbose=1,\n",
        "                  callbacks=[early_stopping,model_checkpoint])\n",
        "\n",
        "\n",
        "plt.plot(history.history['loss'],label='Train')\n",
        "plt.plot(history.history['val_loss'],label=\"Test\")\n",
        "plt.legend()\n",
        "plt.show()\n",
        "\n"
      ]
    },
    {
      "cell_type": "code",
      "source": [],
      "metadata": {
        "id": "cqReIiQ6EQkK"
      },
      "execution_count": 35,
      "outputs": []
    },
    {
      "cell_type": "code",
      "execution_count": 36,
      "metadata": {
        "colab": {
          "base_uri": "https://localhost:8080/"
        },
        "id": "KwtYWI0jKZ-c",
        "outputId": "407a1b7a-7915-4b40-8bdc-b2bbaba14c9f"
      },
      "outputs": [
        {
          "output_type": "stream",
          "name": "stdout",
          "text": [
            "44/44 [==============================] - 1s 22ms/step - loss: 0.1342 - accuracy: 0.9751\n",
            "Test losss:  0.13424448668956757\n",
            "Test accuracy:  0.9750889539718628\n"
          ]
        }
      ],
      "source": [
        "scores=model.evaluate(x_test,y_test,verbose=1)\n",
        "print(\"Test losss: \",scores[0])\n",
        "print(\"Test accuracy: \",scores[1])"
      ]
    },
    {
      "cell_type": "code",
      "execution_count": 37,
      "metadata": {
        "id": "2wTY89gIZJOC",
        "colab": {
          "base_uri": "https://localhost:8080/"
        },
        "outputId": "2d2e2725-6551-4801-cdb0-300356a00330"
      },
      "outputs": [
        {
          "output_type": "stream",
          "name": "stdout",
          "text": [
            "44/44 [==============================] - 1s 17ms/step\n"
          ]
        }
      ],
      "source": [
        "predictions=model.predict(x_test)"
      ]
    },
    {
      "cell_type": "code",
      "source": [
        "predictions[1]"
      ],
      "metadata": {
        "colab": {
          "base_uri": "https://localhost:8080/"
        },
        "id": "ZO1bhRmvCtqL",
        "outputId": "228bb1be-3b9e-44c1-f044-b7f6a08e71a3"
      },
      "execution_count": 38,
      "outputs": [
        {
          "output_type": "execute_result",
          "data": {
            "text/plain": [
              "array([2.56064333e-29, 3.33002235e-17, 1.00000000e+00, 1.15647206e-23],\n",
              "      dtype=float32)"
            ]
          },
          "metadata": {},
          "execution_count": 38
        }
      ]
    },
    {
      "cell_type": "code",
      "source": [
        "np.argmax(predictions[1])"
      ],
      "metadata": {
        "colab": {
          "base_uri": "https://localhost:8080/"
        },
        "id": "4vv-C8grC6Wd",
        "outputId": "6d3beecc-3806-4303-891a-755640ec0b0b"
      },
      "execution_count": 39,
      "outputs": [
        {
          "output_type": "execute_result",
          "data": {
            "text/plain": [
              "2"
            ]
          },
          "metadata": {},
          "execution_count": 39
        }
      ]
    },
    {
      "cell_type": "code",
      "source": [
        "y_test[1]"
      ],
      "metadata": {
        "colab": {
          "base_uri": "https://localhost:8080/"
        },
        "id": "T5CAurjqDPhy",
        "outputId": "be0821fa-ac05-4f60-9f29-e0774f7779d3"
      },
      "execution_count": 40,
      "outputs": [
        {
          "output_type": "execute_result",
          "data": {
            "text/plain": [
              "array([0., 0., 1., 0.], dtype=float32)"
            ]
          },
          "metadata": {},
          "execution_count": 40
        }
      ]
    },
    {
      "cell_type": "code",
      "source": [
        "label_dict[2]"
      ],
      "metadata": {
        "colab": {
          "base_uri": "https://localhost:8080/",
          "height": 36
        },
        "id": "Blf8p-DADBZH",
        "outputId": "f7da05f9-03ef-4f04-9f07-0a8ab3c51587"
      },
      "execution_count": 41,
      "outputs": [
        {
          "output_type": "execute_result",
          "data": {
            "text/plain": [
              "'notumor'"
            ],
            "application/vnd.google.colaboratory.intrinsic+json": {
              "type": "string"
            }
          },
          "metadata": {},
          "execution_count": 41
        }
      ]
    },
    {
      "cell_type": "code",
      "source": [],
      "metadata": {
        "id": "Zu2UxXOrM2AJ"
      },
      "execution_count": 41,
      "outputs": []
    },
    {
      "cell_type": "code",
      "source": [
        "from keras.models import load_model"
      ],
      "metadata": {
        "id": "7ZCEGcrQJ9tE"
      },
      "execution_count": 42,
      "outputs": []
    },
    {
      "cell_type": "code",
      "source": [
        "best_model=load_model(\"/content/Tumor_Prediction_30_loss0.1033.h5\")"
      ],
      "metadata": {
        "id": "8e3fw6DQW3Fr"
      },
      "execution_count": 43,
      "outputs": []
    },
    {
      "cell_type": "code",
      "source": [
        "scores=best_model.evaluate(x_test,y_test,verbose=1)\n",
        "print(\"Test losss: \",scores[0])\n",
        "print(\"Test accuracy: \",scores[1])"
      ],
      "metadata": {
        "colab": {
          "base_uri": "https://localhost:8080/"
        },
        "id": "09owaBJWW8v4",
        "outputId": "2f8d0d5f-8f00-45b2-92ef-f7609f8f62a5"
      },
      "execution_count": 44,
      "outputs": [
        {
          "output_type": "stream",
          "name": "stdout",
          "text": [
            "44/44 [==============================] - 1s 22ms/step - loss: 0.1033 - accuracy: 0.9730\n",
            "Test losss:  0.10331721603870392\n",
            "Test accuracy:  0.972953736782074\n"
          ]
        }
      ]
    },
    {
      "cell_type": "code",
      "source": [
        "pip install tf2onnx\n"
      ],
      "metadata": {
        "colab": {
          "base_uri": "https://localhost:8080/"
        },
        "id": "bNG0Rau8kqeE",
        "outputId": "2632142e-239d-46d1-d380-3bf596713738"
      },
      "execution_count": 46,
      "outputs": [
        {
          "output_type": "stream",
          "name": "stdout",
          "text": [
            "Collecting tf2onnx\n",
            "  Downloading tf2onnx-1.16.0-py3-none-any.whl (455 kB)\n",
            "\u001b[2K     \u001b[90m━━━━━━━━━━━━━━━━━━━━━━━━━━━━━━━━━━━━━━━━\u001b[0m \u001b[32m455.7/455.7 kB\u001b[0m \u001b[31m3.6 MB/s\u001b[0m eta \u001b[36m0:00:00\u001b[0m\n",
            "\u001b[?25hRequirement already satisfied: numpy>=1.14.1 in /usr/local/lib/python3.10/dist-packages (from tf2onnx) (1.23.5)\n",
            "Collecting onnx>=1.4.1 (from tf2onnx)\n",
            "  Downloading onnx-1.15.0-cp310-cp310-manylinux_2_17_x86_64.manylinux2014_x86_64.whl (15.7 MB)\n",
            "\u001b[2K     \u001b[90m━━━━━━━━━━━━━━━━━━━━━━━━━━━━━━━━━━━━━━━━\u001b[0m \u001b[32m15.7/15.7 MB\u001b[0m \u001b[31m32.1 MB/s\u001b[0m eta \u001b[36m0:00:00\u001b[0m\n",
            "\u001b[?25hRequirement already satisfied: requests in /usr/local/lib/python3.10/dist-packages (from tf2onnx) (2.31.0)\n",
            "Requirement already satisfied: six in /usr/local/lib/python3.10/dist-packages (from tf2onnx) (1.16.0)\n",
            "Requirement already satisfied: flatbuffers>=1.12 in /usr/local/lib/python3.10/dist-packages (from tf2onnx) (23.5.26)\n",
            "Requirement already satisfied: protobuf~=3.20.2 in /usr/local/lib/python3.10/dist-packages (from tf2onnx) (3.20.3)\n",
            "Requirement already satisfied: charset-normalizer<4,>=2 in /usr/local/lib/python3.10/dist-packages (from requests->tf2onnx) (3.3.2)\n",
            "Requirement already satisfied: idna<4,>=2.5 in /usr/local/lib/python3.10/dist-packages (from requests->tf2onnx) (3.6)\n",
            "Requirement already satisfied: urllib3<3,>=1.21.1 in /usr/local/lib/python3.10/dist-packages (from requests->tf2onnx) (2.0.7)\n",
            "Requirement already satisfied: certifi>=2017.4.17 in /usr/local/lib/python3.10/dist-packages (from requests->tf2onnx) (2023.11.17)\n",
            "Installing collected packages: onnx, tf2onnx\n",
            "Successfully installed onnx-1.15.0 tf2onnx-1.16.0\n"
          ]
        }
      ]
    },
    {
      "cell_type": "code",
      "source": [
        "import tensorflow as tf\n",
        "import tf2onnx"
      ],
      "metadata": {
        "id": "N3GsGLJljr7P"
      },
      "execution_count": 47,
      "outputs": []
    },
    {
      "cell_type": "code",
      "source": [
        "model=tf.keras.models.load_model(\"/content/Tumor_Prediction_30_loss0.1033.h5\")"
      ],
      "metadata": {
        "id": "W2rAZfVykmZ9"
      },
      "execution_count": 48,
      "outputs": []
    },
    {
      "cell_type": "code",
      "source": [
        "onnx_model, _=tf2onnx.convert.from_keras(model)"
      ],
      "metadata": {
        "colab": {
          "base_uri": "https://localhost:8080/"
        },
        "id": "GsYTBce4lYrn",
        "outputId": "c96fc7e7-e0ce-41ae-e794-11adc976327a"
      },
      "execution_count": 50,
      "outputs": [
        {
          "output_type": "stream",
          "name": "stderr",
          "text": [
            "WARNING:tf2onnx.tf_loader:Could not search for non-variable resources. Concrete function internal representation may have changed.\n"
          ]
        }
      ]
    },
    {
      "cell_type": "code",
      "source": [
        "# with open('Brain Tumor Predictor.onnx','wb') as file:\n",
        "#   file.write(onnx_model.SerializeToString())"
      ],
      "metadata": {
        "id": "CP9QBJ8XlqlO"
      },
      "execution_count": 51,
      "outputs": []
    },
    {
      "cell_type": "code",
      "source": [],
      "metadata": {
        "id": "f1vCGoeSmfDe"
      },
      "execution_count": null,
      "outputs": []
    }
  ],
  "metadata": {
    "accelerator": "GPU",
    "colab": {
      "provenance": [],
      "gpuType": "T4"
    },
    "kernelspec": {
      "display_name": "Python 3",
      "name": "python3"
    },
    "language_info": {
      "codemirror_mode": {
        "name": "ipython",
        "version": 3
      },
      "file_extension": ".py",
      "mimetype": "text/x-python",
      "name": "python",
      "nbconvert_exporter": "python",
      "pygments_lexer": "ipython3",
      "version": "3.11.5"
    }
  },
  "nbformat": 4,
  "nbformat_minor": 0
}